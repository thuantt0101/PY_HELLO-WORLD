{
 "cells": [
  {
   "attachments": {},
   "cell_type": "markdown",
   "metadata": {},
   "source": [
    "Padas have 3 data type\n",
    "    1. Series - 1 chiều \n",
    "        padas.Series(data=None, index = None, copy = None)\n",
    "            data: có thể là list, dictionary, hoặc hằng số\n",
    "            index : tập các giá trị chỉ mục duy nhất có thể băm, và dộ dài len(index) = len(data)\n",
    "            dtype : là kiểu dữ liệu của đối số data\n",
    "            copy : có giá trị True/False, mặc định là False, copy input data\n",
    "    2. dataframe - 2 chiêu & chứa Series\n",
    "    3. panel - 3 chiều & chứa dataframe"
   ]
  },
  {
   "cell_type": "code",
   "execution_count": null,
   "metadata": {},
   "outputs": [
    {
     "ename": "",
     "evalue": "",
     "output_type": "error",
     "traceback": [
      "\u001b[1;31mRunning cells with 'c:\\Users\\hp\\AppData\\Local\\Programs\\Python\\Python38\\python.exe' requires the ipykernel package.\n",
      "\u001b[1;31mRun the following command to install 'ipykernel' into the Python environment. \n",
      "\u001b[1;31mCommand: 'c:/Users/hp/AppData/Local/Programs/Python/Python38/python.exe -m pip install ipykernel -U --user --force-reinstall'"
     ]
    }
   ],
   "source": [
    "\n",
    "import pandas as pd\n",
    "import numpy as np\n",
    "\n",
    "S = pd.Series(np.random.randint(100,size=5))\n",
    "S"
   ]
  }
 ],
 "metadata": {
  "kernelspec": {
   "display_name": "Python 3",
   "language": "python",
   "name": "python3"
  },
  "language_info": {
   "name": "python",
   "version": "3.8.0"
  },
  "orig_nbformat": 4
 },
 "nbformat": 4,
 "nbformat_minor": 2
}
